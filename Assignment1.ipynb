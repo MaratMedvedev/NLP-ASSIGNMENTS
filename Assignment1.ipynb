{
 "cells": [
  {
   "cell_type": "markdown",
   "metadata": {
    "id": "RKboZnAdgrRM"
   },
   "source": [
    "# [NLP] Assignment 1: Tokenization\n",
    "\n",
    "In this assignment, you need to tokenize the text of the Twitter(X) users posts(tweets). The assignment consists of two tasks. When you finish all the tasks, create a GitHub repository for this assignment (you can use this repo later for the other assignments) and submit this notebook in the repository. Leave `requirements.txt` file if your code requires additional installations. Submit the link to the repository in Moodle.\n",
    "\n",
    "The [data](https://drive.google.com/file/d/15x_wPAflvYQ2Xh38iNQGrqUIWLj5l5Nw/view?usp=share_link) contains 5 files whereby each contains 44 tweets. Each tweet is separated by a newline."
   ]
  },
  {
   "cell_type": "markdown",
   "metadata": {
    "id": "aLDjjAvemUP_"
   },
   "source": [
    "## Task 1. Tokenize some tweets manually (20 points)\n",
    "\n",
    "As a first task you need to tokenize first 15 tweets from `file2` by hand. This will allow you to understand the problem from a linguistic point of view. The guidelines for tweet tokenization are as follows:\n",
    "\n",
    "- Each smiley is a separate token\n",
    "- Each hashtag is an individual token. Each user reference is an individual token\n",
    "- If a word has spaces between them then it is converted to a single token\n",
    "- All punctuations are individual tokens. This includes double-quotes and single quotes also\n",
    "- A URL is a single token\n",
    "\n",
    "Example of output\n",
    "\n",
    "    Input tweet\n",
    "    @xfranman Old age has made N A T O!\n",
    "\n",
    "    Tokenized tweet (separated by comma)\n",
    "    @xfranman , Old , age , has , made , NATO , !"
   ]
  },
  {
   "cell_type": "markdown",
   "metadata": {
    "id": "7KKKwTidnzUw"
   },
   "source": [
    "\n",
    "    1. Input tweet\n",
    "        Camping in Maine for the weekend. Hey Dad, Mama Loves YOU: http://www.mamapalooza.com\n",
    "    1. Tokenized tweet\n",
    "        Camping , in , Maine , for , the , weekend , . , Hey , Dad , , , Mama , Loves , YOU , : , http://www.mamapalooza.com\n",
    "\n",
    "    2. Input tweet\n",
    "        Its american tradition bitch\n",
    "    2. Tokenized tweet\n",
    "        Its , american , tradition , bitch\n",
    "    \n",
    "    3. Input tweet\n",
    "        @ThroughTheVoid They love it! The only pleasure they get in life. I actually do that. I'm sure I hear a tiny squeak... Then louder ones\n",
    "    3. Tokenized tweet\n",
    "        @ThroughTheVoid , They , love , it , ! , The , only , pleasure , they , get , in , life , . , I , actually , do , that , . , I , ' , m , sure , I , hear , a , tiny , squeak , ... , Then , louder , ones\n",
    "    \n",
    "    4. Input tweet\n",
    "        \" RT @latti: @AbsoHilare stop tweeting in church! Lol <--- \"\"I tweet because I'm happy, I tweet because I'm free\"\" LOL!\"\n",
    "    4. Tokenized tweet\n",
    "        \" , RT , @latti , : , @AbsoHilare , stop , tweeting , in , church , ! , Lol , <--- , \" , \" , I , tweet , because , I , ' , m , happy , , , I , tweet , because , I , ' , m , free , \" , \" , LOL , ! , \"\n",
    "\n",
    "    5. Input tweet\n",
    "        Samsung Mini S2 portable HDD graced with colors that perfectly match your tacky beach gear: Sammy's done it aga.. http://tinyurl.com/lb5p6m\n",
    "\n",
    "    5. Tokenized tweet\n",
    "        Samsung , Mini , S2 , portable , HDD , graced , with , colors , that , perfectly , match , your , tacky , beach , gear , : , Sammy , ' , s , done , it ,  aga , .. ,  http://tinyurl.com/lb5p6m\n",
    "\n",
    "    6. Input tweet\n",
    "        @dialloc congrats on finding your way over. it may be slow going at first. hang in there. it's kinda cool when u get up to speed.\n",
    "    6. Tokenized tweet\n",
    "        @dialloc , congrats , on , finding , your , way , over , . , it , may , be , slow , going , at , first , . , hang , in , there , . , it , ' , s , kinda , cool , when , u , get , up , to , speed , .\n",
    "    \n",
    "    7. Input tweet\n",
    "        iPhone activation delays continue, Apple offers $30 http://twt.gs/l3Ki\n",
    "    7. Tokenized tweet\n",
    "        iPhone , activation , delays , continue , , , Apple , offers , $ , 30 , http://twt.gs/l3Ki\n",
    "    \n",
    "    8. Input tweet\n",
    "        RT @GoogleAtWork Gmail maximum attachment size now 25MB http://bit.ly/62mjw Nice!!!\n",
    "    8. Tokenized tweet\n",
    "        RT , @GoogleAtWork , Gmail , maximum , attachment , size , now , 25MB , http://bit.ly/62mjw Nice , !!!\n",
    "        \n",
    "    9. Input tweet\n",
    "        RT @acfou The Ads Won Awards for Crispin; But Did Nothing for Client BurgerKing's Sales/Marketshare - Big Surprise - http://ping.fm/vw8TI\n",
    "    9. Tokenized tweet\n",
    "        RT , @acfou , The , Ads , Won , Awards , for Crispin , ; , But , Did , Nothing , for , Client , BurgerKing , ' , s , Sales , / , Marketshare , - , Big ,  Surprise , - , http://ping.fm/vw8TI\n",
    "\n",
    "    \n",
    "    10. Input tweet\n",
    "        Hey doll! Great I missed True Blood yday boo lol Rt @FrankBanuat78 @jhillstephens Hello Sunshine how are u today? :-)\n",
    "    10. Tokenized tweet\n",
    "        Hey , doll , ! , Great , I , missed , True , Blood , yday , boo , lol , Rt , @FrankBanuat78 , @jhillstephens , Hello , Sunshine , how , are , u , today , ? , :-)\n",
    "\n",
    "    11. Input tweet\n",
    "        Australian artist Pogo made these free songs primarily from sampled audio from Alice In Wonderland. http://www.last.fm/music/Pogo/Wonderland\n",
    "    11. Tokenized tweet\n",
    "        Australian , artist , Pogo , made , these , free , songs , primarily , from , sampled , audio , from , Alice , In , Wonderland , . , http://www.last.fm/music/Pogo/Wonderland\n",
    "        \n",
    "    12. Input tweet\n",
    "        @mppritchard they wanted to sell all the preorders & then sell all of the ones they had in stock to those that just walked in. Can't do both\n",
    "    12. Tokenized tweet\n",
    "        @mppritchard , they , wanted , to , sell , all , the , preorders , & , then , sell , all , of , the , ones , they , had , in , stock , to , those , that , just , walked , in , . , Can , ' , t , do , both\n",
    "        \n",
    "    13. Input tweet\n",
    "        Incoming: Frightened Rabbit, Sept. 22 (Tucson): If Fat Cat Records is going to send three great bands from Scot.. http://tinyurl.com/nz6xcv\n",
    "    13. Tokenized tweet\n",
    "        Incoming , : , Frightened , Rabbit , , , Sept. 22 , ( , Tucson , ) , : , If , Fat , Cat , Records , is , going , to , send , three , great , bands , from Scot.. , http://tinyurl.com/nz6xcv\n",
    "        \n",
    "    14. Input tweet\n",
    "        Hey @ginoandfran please greet philip! (GinoandFran live > http://ustre.am/2YyQ)\n",
    "    14. Tokenized tweet\n",
    "        Hey , @ginoandfran , please , greet , philip , ! , ( , GinoandFran , live , > , http://ustre.am/2YyQ)\n",
    "        \n",
    "    15. Input tweet\n",
    "        Ik weet niet wie er achter de T-Mobile iPhone Twitter zit maar ik vind het niet echt 'corporate' taalgebruik... Best vreemd eigenlijk\n",
    "    15. Tokenized tweet\n",
    "        Ik , weet , niet , wie , er , achter , de , T-Mobile , iPhone vTwitter , zit , maar , ik , vind , het , niet , echt , ' , corporate , ' , taalgebruik , ... , Best , vreemd , eigenlijk"
   ]
  },
  {
   "cell_type": "markdown",
   "metadata": {
    "id": "-2J2AD2nmUhi"
   },
   "source": [
    "## Task 2. Implement [Byte-Pair Encoding(BPE)](https://arxiv.org/pdf/1508.07909.pdf) Tokenizer (80 points)\n",
    "\n",
    "### Task 2.1. Implementation (60 points)\n",
    "\n",
    "Implement the tokenizer as the BPETokenizer class:\n",
    "* Implement `train` method that learns merges and builds the vocabulary of the specified `vocab_size` (25 points).\n",
    "* Implement `tokenize` method that should tokenize the text according to the learnt merges (25 points).\n",
    "\n",
    "Your code should have docstrings and comments (10 points)."
   ]
  },
  {
   "cell_type": "code",
   "execution_count": 111,
   "metadata": {
    "ExecuteTime": {
     "end_time": "2024-02-10T19:07:27.353779900Z",
     "start_time": "2024-02-10T19:07:27.179923800Z"
    }
   },
   "outputs": [],
   "source": [
    "from typing import List\n",
    "import collections\n",
    "\n",
    "class BPETokenizer:\n",
    "    END_WORD_TOKEN = \"<END>\" # Token that indicate end of word\n",
    "\n",
    "    def __init__(self, vocab_size: int) -> None:\n",
    "        self.vocab_size = vocab_size\n",
    "        self.vocabulary = None # Contains all tokens that produced during the algorithm\n",
    "\n",
    "    def train(self, corpus: List[str]) -> None:\n",
    "        # Add all unique symbols to the vocabulary\n",
    "        self.vocabulary = {self.END_WORD_TOKEN}\n",
    "        for text in corpus:\n",
    "            self.vocabulary |= set(list(text))\n",
    "            \n",
    "        # Collect all unique words with its count\n",
    "        current_corpus = {}\n",
    "        for text in corpus:\n",
    "            for word in text.split():\n",
    "                if word == '':\n",
    "                    continue\n",
    "                    \n",
    "                # All words will be saved as symbols separated by space and with END_WORD_TOKEN token in the end.\n",
    "                # Like: 'w o r d s <END>' : 5. Number is frequency of word in corpus\n",
    "                # This storing needs to nicely join tokens.\n",
    "                # For example, in previous example most frequent two sequent tokens are o and r.\n",
    "                # So, we will join in all words that have 'o r' and get:\n",
    "                # 'w or d s <END>'\n",
    "                w = ' '.join(list(word)) + \" \" + self.END_WORD_TOKEN\n",
    "                if w in current_corpus:\n",
    "                    current_corpus[w] += 1\n",
    "                else:\n",
    "                    current_corpus[w] = 1\n",
    "                    \n",
    "        # Main part of algorithm: joining of most frequent two sequent tokens\n",
    "        t = self.vocab_size - len(self.vocabulary) # We want to vocabulary size keep precise equal to 'self.vocab_size'\n",
    "        for i in range(t):\n",
    "            first, second = self.most_frequent_pair(current_corpus)\n",
    "            if first == None:  # It means that we join all possible tokens, and we have only whole words on the current state\n",
    "                break\n",
    "            current_corpus = self.merge_tokens(first, second, current_corpus)\n",
    "            self.vocabulary.add(first + second)\n",
    "\n",
    "    def most_frequent_pair(self, current_corpus) -> (str, str):\n",
    "        '''\n",
    "        Return the most frequent pair of sequent tokens\n",
    "        '''\n",
    "        pairs = collections.defaultdict(int)\n",
    "        for word, freq in current_corpus.items():\n",
    "            symbols = word.split()\n",
    "            for i in range(len(symbols) - 1):\n",
    "                pairs[symbols[i], symbols[i + 1]] += freq\n",
    "        if not pairs:\n",
    "            # It means that we join all possible tokens, and we have only whole words on the current state\n",
    "            return None, None\n",
    "        return max(pairs, key=pairs.get)\n",
    "\n",
    "    def merge_tokens(self, first: str, second: str, current_corpus):\n",
    "        '''\n",
    "        Merge tokens 'first' and 'second' in 'current_corpus'\n",
    "        '''\n",
    "        corpus_out = {}\n",
    "        for word, freq in current_corpus.items():\n",
    "            w_out = word.replace(first + \" \" + second, first + \"\" + second) # Token merging\n",
    "            corpus_out[w_out] = freq\n",
    "        return corpus_out\n",
    "\n",
    "    def tokenize(self, text: str) -> List[str]:\n",
    "        tokens = [] # Contain result\n",
    "        symbs = [] # Store the splitting string into symbols with end of word token\n",
    "        # Define word boundaries and mark it with END_WORD_TOKEN token\n",
    "        for word in text.split():\n",
    "            if word == '':\n",
    "                continue\n",
    "            symbs += list(word) + [self.END_WORD_TOKEN]\n",
    "        if symbs[-1] != self.END_WORD_TOKEN:\n",
    "            symbs += [self.END_WORD_TOKEN]\n",
    "\n",
    "        # Greedy choose the largest token that is present in vocabulary and then move to the next symbol after that token\n",
    "        cur_idx = 0\n",
    "        while cur_idx < len(symbs):\n",
    "            r = cur_idx # Right boundary of the token\n",
    "            mxr = cur_idx # Indicate index of the token that has maximum length and present in vocabulary\n",
    "\n",
    "            while symbs[r] != self.END_WORD_TOKEN: # No sense to search token in vocabulary with END_WORD_TOKEN inside. Like 'air<END>plane' can not be in vocabulary\n",
    "                if ''.join(symbs[cur_idx:r + 1]) in self.vocabulary:\n",
    "                    mxr = r # Save the largest token that present in vocabulary\n",
    "                r += 1\n",
    "            if ''.join(symbs[cur_idx:r + 1]) in self.vocabulary:\n",
    "                mxr = r # Save the largest token that present in vocabulary\n",
    "                \n",
    "            # Add token and move on    \n",
    "            tokens.append(''.join(symbs[cur_idx: mxr + 1]))\n",
    "            cur_idx = mxr + 1\n",
    "        return tokens\n"
   ]
  },
  {
   "cell_type": "markdown",
   "metadata": {},
   "source": [
    "### Task 2.2. Analysis on Tweets Dataset (10 points)\n",
    "\n",
    "Train the BPE tokenizer on the tweets dataset. Try to tokenize the tweets with the tokenizer of different `vocab_size`. For example, train the BPE tokenizer with `vocab_size` of [base_vocab_size, 250, 500, 750, 1000]. Plot the dependency of the average length of the tokenized tweet by `vocab_size` to analyze how `vocab_size` affects the length of the tokenized tweet on average. Tell what `vocab_size` is preferrable and why."
   ]
  },
  {
   "cell_type": "code",
   "execution_count": 112,
   "outputs": [
    {
     "name": "stdout",
     "output_type": "stream",
     "text": [
      "220\n"
     ]
    }
   ],
   "source": [
    "tweets = []\n",
    "# Collect tweets from all files\n",
    "for i in range(1, 6): \n",
    "    tw = open(f\"Assignment1_data/file{i}\", 'r', encoding=\"utf8\").read().split(\"\\n\")\n",
    "    del tw[-1] # Delete empty string\n",
    "    tweets += tw\n",
    "print(len(tweets))"
   ],
   "metadata": {
    "collapsed": false,
    "ExecuteTime": {
     "end_time": "2024-02-10T19:07:27.393407900Z",
     "start_time": "2024-02-10T19:07:27.369861600Z"
    }
   }
  },
  {
   "cell_type": "code",
   "execution_count": 113,
   "metadata": {
    "ExecuteTime": {
     "end_time": "2024-02-10T19:07:34.647904400Z",
     "start_time": "2024-02-10T19:07:27.388926300Z"
    }
   },
   "outputs": [
    {
     "data": {
      "text/plain": "<Figure size 640x480 with 1 Axes>",
      "image/png": "[encoded data removed]"
     },
     "metadata": {},
     "output_type": "display_data"
    }
   ],
   "source": [
    "import matplotlib.pyplot as plt\n",
    "\n",
    "# 168 is number of unique symbols among all tweets\n",
    "x = [168, 250, 500, 750, 1000] \n",
    "y = []\n",
    "bpe = BPETokenizer(25)\n",
    "bpe.train(tweets)\n",
    "for vocab_size in x:\n",
    "    bpe = BPETokenizer(vocab_size)\n",
    "    bpe.train(tweets)\n",
    "    avg_len = 0\n",
    "    for tweet in tweets:\n",
    "        avg_len += len(bpe.tokenize(tweet))\n",
    "    y.append(avg_len / len(tweets))\n",
    "\n",
    "plt.plot(x, y)\n",
    "\n",
    "plt.xlabel('vocab_size')\n",
    "plt.ylabel('average length of the tokenized tweet')\n",
    "plt.show()"
   ]
  },
  {
   "cell_type": "markdown",
   "source": [
    "I think we can use elbow method and choose 500. By that, we will have pretty good average length of the tokenized text and not so great vocabulary size. If we pick vocabulary size greater than 500, we won't see any significant improvements in average length and just increase our vocabulary."
   ],
   "metadata": {
    "collapsed": false
   }
  },
  {
   "cell_type": "markdown",
   "metadata": {},
   "source": [
    "### Task 2.3. Analysis on Dataset of Different Language (10 points)\n",
    "\n",
    "Find a small dataset of texts in a language other than English. The dataset size should be not greater than several megabytes.\n",
    "\n",
    "Train the BPE tokenizer on the dataset that you found. Try to tokenize the sentences from this dataset with the tokenizer of different `vocab_size`. Plot the dependency of the average length of the tokenized sentence by `vocab_size` to analyze how `vocab_size` affects the length of the tokenized sentence on average.\n",
    "\n",
    "Tell how how the average length of the tokenized sentence differs from the average length of the tokenized tweet. Explain why. "
   ]
  },
  {
   "cell_type": "code",
   "execution_count": 114,
   "metadata": {
    "ExecuteTime": {
     "end_time": "2024-02-10T19:07:34.695578800Z",
     "start_time": "2024-02-10T19:07:34.646706500Z"
    }
   },
   "outputs": [],
   "source": []
  }
 ],
 "metadata": {
  "colab": {
   "provenance": [],
   "toc_visible": true
  },
  "kernelspec": {
   "name": "python3",
   "language": "python",
   "display_name": "Python 3 (ipykernel)"
  },
  "language_info": {
   "name": "python"
  }
 },
 "nbformat": 4,
 "nbformat_minor": 0
}
